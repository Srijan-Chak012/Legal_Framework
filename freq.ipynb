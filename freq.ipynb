{
 "cells": [
  {
   "cell_type": "code",
   "execution_count": 3,
   "metadata": {},
   "outputs": [
    {
     "name": "stdout",
     "output_type": "stream",
     "text": [
      "626\n"
     ]
    }
   ],
   "source": [
    "import csv\n",
    "import re\n",
    "import sys\n",
    "import json\n",
    "import networkx as nx\n",
    "import matplotlib.pyplot as plt\n",
    "from collections import Counter\n",
    "\n",
    "# Increase the field size limit\n",
    "csv.field_size_limit(sys.maxsize)\n",
    "\n",
    "def read_selected_columns(file_path, selected_columns):\n",
    "    global counter\n",
    "    counter = 0\n",
    "    with open(file_path, 'r') as csv_file:\n",
    "        reader = csv.DictReader(csv_file)\n",
    "        data = []\n",
    "\n",
    "        for row in reader:\n",
    "            counter += 1\n",
    "            cases_referred = row[\"Cases Referred\"]\n",
    "            cases_list = cases_referred.split(\";\")\n",
    "            case_list = [case.strip() for case in cases_list if case.strip()]  # Remove empty cases\n",
    "            selected_data = {column: case_list if column == \"Cases Referred\" else row[column] for column in selected_columns}\n",
    "            data.append(selected_data)\n",
    "\n",
    "    return data\n",
    "\n",
    "file_path = 'output.csv'\n",
    "selected_columns = [\"Manu_ID\", \"Cases Referred\"]\n",
    "data = read_selected_columns(file_path, selected_columns)\n",
    "\n",
    "dictionary = {row[\"Manu_ID\"]: row[\"Cases Referred\"] for row in data}\n",
    "\n",
    "with open(\"count_output.json\", \"w\") as f:\n",
    "    json.dump(dictionary, f)\n",
    "\n",
    "print(counter)\n",
    "\n",
    "key_counts = Counter(dictionary.keys())\n",
    "\n",
    "# Count the occurrences of each node in the values of the original dictionary\n",
    "value_counts = Counter(node for connections in dictionary.values() for node in connections)\n",
    "\n",
    "# Combine the key and value counts\n",
    "combined_counts = {node: key_counts[node] + value_counts.get(node, 0) for node in set(key_counts) | set(value_counts)}\n",
    "\n",
    "# print(combined_counts)\n",
    "\n",
    "# Sort the combined counts dictionary by values in descending order\n",
    "sorted_combined_counts = {k: v for k, v in sorted(combined_counts.items(), key=lambda item: item[1], reverse=True)}\n",
    "\n",
    "with open(\"count_output2.json\", \"w\") as f:\n",
    "    for k, v in sorted_combined_counts.items():\n",
    "        json.dump({k: v ,}, f)\n",
    "        f.write(',\\n')\n",
    "\n"
   ]
  }
 ],
 "metadata": {
  "kernelspec": {
   "display_name": "Python 3",
   "language": "python",
   "name": "python3"
  },
  "language_info": {
   "codemirror_mode": {
    "name": "ipython",
    "version": 3
   },
   "file_extension": ".py",
   "mimetype": "text/x-python",
   "name": "python",
   "nbconvert_exporter": "python",
   "pygments_lexer": "ipython3",
   "version": "3.10.12"
  },
  "orig_nbformat": 4
 },
 "nbformat": 4,
 "nbformat_minor": 2
}
